{
 "cells": [
  {
   "cell_type": "code",
   "execution_count": 12,
   "metadata": {},
   "outputs": [],
   "source": [
    "import os"
   ]
  },
  {
   "cell_type": "raw",
   "metadata": {},
   "source": [
    "topaz particles.txt format:\n",
    "\n",
    "image_name\tx_coord\ty_coord\tscore\n",
    "Microtubules_00000\t420\t586\t0.6130168\n",
    "Microtubules_00000\t881\t475\t-0.32318813\n",
    "Microtubules_00000\t514\t359\t-0.6220623\n",
    "Microtubules_00000\t541\t107\t-0.7319106\n",
    "Microtubules_00000\t578\t382\t-0.7987223\n",
    "Microtubules_00000\t489\t529\t-0.81050706\n",
    "Microtubules_00000\t425\t146\t-0.8201488\n",
    "\n",
    "New format:\n",
    "\n",
    "Microtubules_00000\n",
    "420\t586\t0.6130168\n",
    "881\t475\t-0.32318813\n",
    "514\t359\t-0.6220623\n",
    "541\t107\t-0.7319106\n",
    "578\t382\t-0.7987223\n",
    "489\t529\t-0.81050706\n",
    "425\t146\t-0.8201488\n",
    "684\t542\t-0.8732878\n",
    "554\t170\t-0.9073634"
   ]
  },
  {
   "cell_type": "code",
   "execution_count": 17,
   "metadata": {},
   "outputs": [],
   "source": [
    "path_to_topaz = \"predicted_particles_all.txt.filepart\"\n",
    "path_to_helix = \"Helix_files\""
   ]
  },
  {
   "cell_type": "code",
   "execution_count": 18,
   "metadata": {},
   "outputs": [],
   "source": [
    "topaz_files = path_to_topaz"
   ]
  },
  {
   "cell_type": "code",
   "execution_count": 19,
   "metadata": {},
   "outputs": [
    {
     "data": {
      "text/plain": [
       "'predicted_particles_all.txt.filepart'"
      ]
     },
     "execution_count": 19,
     "metadata": {},
     "output_type": "execute_result"
    }
   ],
   "source": [
    "topaz_files"
   ]
  },
  {
   "cell_type": "code",
   "execution_count": 20,
   "metadata": {},
   "outputs": [],
   "source": [
    "f = open(path_to_topaz, \"r\")\n",
    "f.readline() #skip one line\n",
    "o = None\n",
    "\n",
    "current_title = \"\"\n",
    "\n",
    "for x in f:\n",
    "    line = x.split(\"\\t\")\n",
    "    if line[0] != current_title:\n",
    "        current_title = line[0]\n",
    "        o = open(path_to_helix+\"/\"+line[0]+\".txt\", \"w\")\n",
    "        \n",
    "        o.write(\"x_coord\\ty_coord\\tscore\\n\")\n",
    "        o.write(line[1]+\"\\t\"+line[2]+\"\\t\"+line[3])\n",
    "    else:\n",
    "        o.write(line[1]+\"\\t\"+line[2]+\"\\t\"+line[3])\n"
   ]
  },
  {
   "cell_type": "code",
   "execution_count": null,
   "metadata": {},
   "outputs": [],
   "source": []
  }
 ],
 "metadata": {
  "kernelspec": {
   "display_name": "Python 3",
   "language": "python",
   "name": "python3"
  },
  "language_info": {
   "codemirror_mode": {
    "name": "ipython",
    "version": 3
   },
   "file_extension": ".py",
   "mimetype": "text/x-python",
   "name": "python",
   "nbconvert_exporter": "python",
   "pygments_lexer": "ipython3",
   "version": "3.7.6"
  }
 },
 "nbformat": 4,
 "nbformat_minor": 4
}
