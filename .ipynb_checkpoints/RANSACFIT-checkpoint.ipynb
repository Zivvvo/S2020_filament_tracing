{
 "cells": [
  {
   "cell_type": "code",
   "execution_count": 102,
   "metadata": {},
   "outputs": [],
   "source": [
    "import numpy as np\n",
    "from sklearn import linear_model, datasets, metrics\n",
    "from sklearn.pipeline import make_pipeline\n",
    "from sklearn.preprocessing import PolynomialFeatures\n",
    "from matplotlib import pyplot as plt\n",
    "import pandas as pd"
   ]
  },
  {
   "cell_type": "markdown",
   "metadata": {},
   "source": [
    "## polyfit() function using sklearn.linear_model.RANSACRegressor ##\n",
    "\n",
    "The polyfit function takes a csv file with equal column sizes as input<br>\n",
    "Inputs:<ol>\n",
    "    <li>CSV file name,</li>\n",
    "    <li>polynomial order (to fit with), </li>\n",
    "    <li>maxdistance (the maximum deviation from the predicted line allowed for a data point to be considered an outlier)</li></ol>\n",
    "Returns:\n",
    "    the x and y columns of the fitted RANSAC line\n"
   ]
  },
  {
   "cell_type": "code",
   "execution_count": 103,
   "metadata": {},
   "outputs": [],
   "source": [
    "def polyfit(data, order, maxdistance):\n",
    "    #loading and extracting columns of data for x and y\n",
    "    df = pd.read_csv(data, header = None)\n",
    "    x = df[0].values\n",
    "    x = np.reshape(x, (len(x),1))\n",
    "    \n",
    "    y = df[1].values\n",
    "    y = np.reshape(y,(len(y),))\n",
    "    \n",
    "    #creation of the RANSACRegressor object\n",
    "    ransac = make_pipeline(PolynomialFeatures(order), linear_model.RANSACRegressor(residual_threshold = maxdistance))\n",
    "    \n",
    "    ransac.fit(x,df[1].values)\n",
    "    \n",
    "    #creation of boolean mask arrays to indicate the (x,y) pairs that are inliers vs. outliers\n",
    "    \n",
    "    #inlier_mask = ransac.inlier_mask_\n",
    "    #outlier_mask = np.logical_not(inlier_mask)\n",
    "    \n",
    "    line_x = np.arange(x.min(), x.max()+1)[:, np.newaxis]\n",
    "    \n",
    "    line_y_ransac = ransac.predict(line_x)\n",
    "    \n",
    "    #additional linear fit\n",
    "    linear = linear_model.RANSACRegressor()\n",
    "    linear.fit(x,df[1].values)\n",
    "    \n",
    "    inlier_mask = linear.inlier_mask_\n",
    "    outlier_mask = np.logical_not(inlier_mask)\n",
    "    \n",
    "    line_y_linear = linear.predict(line_x)\n",
    "\n",
    "    lw = 2\n",
    "    #plt.scatter(x[inlier_mask], y[inlier_mask], color='yellowgreen', marker='.',\n",
    "    #           label='Inliers')\n",
    "    #plt.scatter(x[outlier_mask], y[outlier_mask], color='gold', marker='.',\n",
    "    #            label='Outliers')\n",
    "    plt.scatter(x,y, color=\"red\", marker = '.')\n",
    "    plt.plot(line_x, line_y_ransac, color='cornflowerblue', linewidth=lw,\n",
    "             label='RANSAC regressor')\n",
    "    plt.plot(line_x, line_y_linear, color='blue', linewidth = lw-0.5, label = \"linear regressor\")\n",
    "    plt.legend(loc='lower right')\n",
    "    plt.xlabel(\"Input\")\n",
    "    plt.ylabel(\"Response\")\n",
    "    plt.show()\n",
    "    \n",
    "    #select best fitted line using mean squared error (L)\n",
    "    \n",
    "    \n",
    "    MSE_regressor = metrics.mean_squared_error(df[1].values[:len(df[1].values)], line_y_ransac)\n",
    "    MSE_linear = metrics.mean_squared_error(df[1].values[:len(df[1].values)], line_y_linear)\n",
    "    \n",
    "    print(\"MSE of the linear fit: \"+str(MSE_linear))\n",
    "    print(\"MSE of the polynomial fit: \"+str(MSE_regressor))\n",
    "    \n",
    "    chosen_model = None\n",
    "    alternative_model = None\n",
    "    if (MSE_linear < MSE_regressor):\n",
    "        chosen_model = linear\n",
    "        alternative_model = ransac\n",
    "        print(\"Linear model chosen\")\n",
    "    else:\n",
    "        chosen_model = ransac\n",
    "        alternative_model = linear\n",
    "        print(\"Polynomial model chosen\")\n",
    "    \n",
    "    cache = {\"x\":line_x, \"yl\":line_y_linear, \"yr\": line_y_ransac, \"model\": chosen_model, \"alt_model\": alternative_model}\n",
    "    \n",
    "    return cache"
   ]
  },
  {
   "cell_type": "markdown",
   "metadata": {},
   "source": [
    "## arclength() <br>\n",
    "\n",
    "Takes input:\n",
    "<ol>\n",
    "    output cache of polyfit()\n",
    "    </ol><br>\n",
    "Returns:<br>\n",
    "<ol>\n",
    "    a cache containing the custom x coordinates, the y output of arclength as a function of each x coordinate, and the arclength"
   ]
  },
  {
   "cell_type": "code",
   "execution_count": 104,
   "metadata": {},
   "outputs": [],
   "source": [
    "def arclength(cache, spacing, linespace = 10000000):\n",
    "    line_x = cache[\"x\"]\n",
    "    x_coords = np.linspace(line_x.min(),line_x.max(),linespace)[:, np.newaxis]\n",
    "    y_coords = cache[\"model\"].predict(x_coords)\n",
    "\n",
    "    s_accumulative = 0.0\n",
    "    s_list = []\n",
    "    \n",
    "    \n",
    "    for i in range(len(x_coords)-1):\n",
    "        x_tmp = x_coords[i]\n",
    "        y_tmp = y_coords[i]\n",
    "        \n",
    "        x_next = x_coords[i+1]\n",
    "        y_next = y_coords[i+1]\n",
    "    \n",
    "        \n",
    "        s_accumulative += np.sqrt(np.power((x_next-x_tmp),2)+np.power((y_next-y_tmp),2)).item()\n",
    "        s_list.append(s_accumulative)\n",
    "    \n",
    "    return {\"x\": x_coords, \"s(x)\": s_list, \"arclength\":s_accumulative}"
   ]
  },
  {
   "cell_type": "markdown",
   "metadata": {},
   "source": [
    "## spacing() ##\n",
    "Inputs: <br>\n",
    " <ol> output from arclength(), number of segments to divide the curve into </ol><br>\n",
    "Outputs: <br>\n",
    " <ol> the respective x coordinates of the curve such that between each x coordinate, the change in arclength is constant. </ol>"
   ]
  },
  {
   "cell_type": "code",
   "execution_count": 105,
   "metadata": {},
   "outputs": [],
   "source": [
    "def spacing(cache, n_segments):\n",
    "    #based on the number of segments you want to divide the arc into, return the respective x coordinate at each segment\n",
    "    \n",
    "    l = np.linspace(0,cache[\"arclength\"], n_segments)[:, np.newaxis]\n",
    "    \n",
    "    s = np.asarray(cache[\"s(x)\"])\n",
    "    \n",
    "    x_locations = []\n",
    "    for val in l:\n",
    "        idx = np.abs(s-val).argmin()\n",
    "        x_locations.append(cache[\"x\"][idx])\n",
    "        \n",
    "    return x_locations\n",
    "    "
   ]
  },
  {
   "cell_type": "markdown",
   "metadata": {},
   "source": [
    "Example:"
   ]
  },
  {
   "cell_type": "code",
   "execution_count": 106,
   "metadata": {
    "scrolled": true
   },
   "outputs": [
    {
     "name": "stdout",
     "output_type": "stream",
     "text": [
      "data.txt:\n",
      "  x    y\n",
      "  1    3\n",
      "  2    6\n",
      "  3   11\n",
      "  4   18\n",
      "  5   26\n",
      "  6   38\n",
      "  7   51\n",
      "  8   66\n",
      "  9   84\n",
      " 10  102\n"
     ]
    },
    {
     "data": {
      "image/png": "[encoded data removed]",
      "text/plain": [
       "<Figure size 432x288 with 1 Axes>"
      ]
     },
     "metadata": {
      "needs_background": "light"
     },
     "output_type": "display_data"
    },
    {
     "name": "stdout",
     "output_type": "stream",
     "text": [
      "MSE of the linear fit: 55.380606060606056\n",
      "MSE of the polynomial fit: 0.19999999999999787\n",
      "Polynomial model chosen\n"
     ]
    },
    {
     "data": {
      "text/plain": [
       "[array([1.]),\n",
       " array([3.42954034]),\n",
       " array([4.76894028]),\n",
       " array([5.81005048]),\n",
       " array([6.69212617]),\n",
       " array([7.47129225]),\n",
       " array([8.17684642]),\n",
       " array([8.82637378]),\n",
       " array([9.43140784]),\n",
       " array([9.9999991])]"
      ]
     },
     "execution_count": 106,
     "metadata": {},
     "output_type": "execute_result"
    }
   ],
   "source": [
    "print(\"data.txt:\")\n",
    "print(pd.read_csv(\"data.txt\", index_col =  None, header = None).to_string(header = [\"x\",\"y\"], index = False))\n",
    "\n",
    "cache = polyfit(\"data.txt\",2,0.5)\n",
    "\n",
    "al = arclength(cache, 5)\n",
    "al[\"arclength\"]\n",
    "#x_coordinates of evenly spaced segments\n",
    "output = spacing(al, 10)\n",
    "output\n",
    "#plt.plot(x,y)\n",
    "\n",
    "#pd.DataFrame(x,y)"
   ]
  },
  {
   "cell_type": "code",
   "execution_count": null,
   "metadata": {},
   "outputs": [],
   "source": []
  }
 ],
 "metadata": {
  "kernelspec": {
   "display_name": "Python 3",
   "language": "python",
   "name": "python3"
  },
  "language_info": {
   "codemirror_mode": {
    "name": "ipython",
    "version": 3
   },
   "file_extension": ".py",
   "mimetype": "text/x-python",
   "name": "python",
   "nbconvert_exporter": "python",
   "pygments_lexer": "ipython3",
   "version": "3.7.3"
  }
 },
 "nbformat": 4,
 "nbformat_minor": 2
}
